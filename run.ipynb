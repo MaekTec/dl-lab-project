{
  "nbformat": 4,
  "nbformat_minor": 0,
  "metadata": {
    "kernelspec": {
      "display_name": "Python 3",
      "language": "python",
      "name": "python3"
    },
    "language_info": {
      "codemirror_mode": {
        "name": "ipython",
        "version": 2
      },
      "file_extension": ".py",
      "mimetype": "text/x-python",
      "name": "python",
      "nbconvert_exporter": "python",
      "pygments_lexer": "ipython2",
      "version": "2.7.6"
    },
    "colab": {
      "name": "run.ipynb",
      "provenance": []
    }
  },
  "cells": [
    {
      "cell_type": "code",
      "metadata": {
        "collapsed": true,
        "pycharm": {
          "name": "#%%\n"
        },
        "id": "_c0_YKYzo7PM",
        "outputId": "48c995f2-65f3-44ba-f6e0-39d1b414ff45",
        "colab": {
          "base_uri": "https://localhost:8080/"
        }
      },
      "source": [
        "! git clone https://github.com/MaekTec/dl-lab-project.git"
      ],
      "execution_count": 5,
      "outputs": [
        {
          "output_type": "stream",
          "text": [
            "Cloning into 'dl-lab-project'...\n",
            "remote: Enumerating objects: 26, done.\u001b[K\n",
            "remote: Counting objects: 100% (26/26), done.\u001b[K\n",
            "remote: Compressing objects: 100% (18/18), done.\u001b[K\n",
            "remote: Total 26 (delta 4), reused 26 (delta 4), pack-reused 0\u001b[K\n",
            "Unpacking objects: 100% (26/26), done.\n"
          ],
          "name": "stdout"
        }
      ]
    },
    {
      "cell_type": "code",
      "metadata": {
        "id": "CuzN0MDF4HdM",
        "outputId": "9e301e90-15c3-412f-ef2e-3f48b508c589",
        "colab": {
          "base_uri": "https://localhost:8080/"
        }
      },
      "source": [
        "!wget -c https://repo.anaconda.com/miniconda/Miniconda3-4.5.4-Linux-x86_64.sh\n",
        "!chmod +x Miniconda3-4.5.4-Linux-x86_64.sh\n",
        "!bash ./Miniconda3-4.5.4-Linux-x86_64.sh -b -f -p /usr/local"
      ],
      "execution_count": 4,
      "outputs": [
        {
          "output_type": "stream",
          "text": [
            "--2021-06-14 19:11:00--  https://repo.anaconda.com/miniconda/Miniconda3-4.5.4-Linux-x86_64.sh\n",
            "Resolving repo.anaconda.com (repo.anaconda.com)... 104.16.130.3, 104.16.131.3, 2606:4700::6810:8303, ...\n",
            "Connecting to repo.anaconda.com (repo.anaconda.com)|104.16.130.3|:443... connected.\n",
            "HTTP request sent, awaiting response... 200 OK\n",
            "Length: 58468498 (56M) [application/x-sh]\n",
            "Saving to: ‘Miniconda3-4.5.4-Linux-x86_64.sh’\n",
            "\n",
            "Miniconda3-4.5.4-Li 100%[===================>]  55.76M   161MB/s    in 0.3s    \n",
            "\n",
            "2021-06-14 19:11:01 (161 MB/s) - ‘Miniconda3-4.5.4-Linux-x86_64.sh’ saved [58468498/58468498]\n",
            "\n",
            "PREFIX=/usr/local\n",
            "installing: python-3.6.5-hc3d631a_2 ...\n",
            "Python 3.6.5 :: Anaconda, Inc.\n",
            "installing: ca-certificates-2018.03.07-0 ...\n",
            "installing: conda-env-2.6.0-h36134e3_1 ...\n",
            "installing: libgcc-ng-7.2.0-hdf63c60_3 ...\n",
            "installing: libstdcxx-ng-7.2.0-hdf63c60_3 ...\n",
            "installing: libffi-3.2.1-hd88cf55_4 ...\n",
            "installing: ncurses-6.1-hf484d3e_0 ...\n",
            "installing: openssl-1.0.2o-h20670df_0 ...\n",
            "installing: tk-8.6.7-hc745277_3 ...\n",
            "installing: xz-5.2.4-h14c3975_4 ...\n",
            "installing: yaml-0.1.7-had09818_2 ...\n",
            "installing: zlib-1.2.11-ha838bed_2 ...\n",
            "installing: libedit-3.1.20170329-h6b74fdf_2 ...\n",
            "installing: readline-7.0-ha6073c6_4 ...\n",
            "installing: sqlite-3.23.1-he433501_0 ...\n",
            "installing: asn1crypto-0.24.0-py36_0 ...\n",
            "installing: certifi-2018.4.16-py36_0 ...\n",
            "installing: chardet-3.0.4-py36h0f667ec_1 ...\n",
            "installing: idna-2.6-py36h82fb2a8_1 ...\n",
            "installing: pycosat-0.6.3-py36h0a5515d_0 ...\n",
            "installing: pycparser-2.18-py36hf9f622e_1 ...\n",
            "installing: pysocks-1.6.8-py36_0 ...\n",
            "installing: ruamel_yaml-0.15.37-py36h14c3975_2 ...\n",
            "installing: six-1.11.0-py36h372c433_1 ...\n",
            "installing: cffi-1.11.5-py36h9745a5d_0 ...\n",
            "installing: setuptools-39.2.0-py36_0 ...\n",
            "installing: cryptography-2.2.2-py36h14c3975_0 ...\n",
            "installing: wheel-0.31.1-py36_0 ...\n",
            "installing: pip-10.0.1-py36_0 ...\n",
            "installing: pyopenssl-18.0.0-py36_0 ...\n",
            "installing: urllib3-1.22-py36hbe7ace6_0 ...\n",
            "installing: requests-2.18.4-py36he2e5f8d_1 ...\n",
            "installing: conda-4.5.4-py36_0 ...\n",
            "unlinking: asn1crypto-0.24.0-py37_0\n",
            "unlinking: certifi-2018.8.24-py37_1\n",
            "unlinking: chardet-3.0.4-py37_1\n",
            "unlinking: conda-env-2.6.0-1\n",
            "unlinking: idna-2.7-py37_0\n",
            "unlinking: libffi-3.2.1-h97ff0df_4\n",
            "unlinking: libgcc-ng-8.2.0-h9268252_1\n",
            "unlinking: libgcc-ng-8.2.0-hdf63c60_1\n",
            "unlinking: libstdcxx-ng-8.2.0-h9268252_1\n",
            "unlinking: libstdcxx-ng-8.2.0-hdf63c60_1\n",
            "unlinking: ncurses-6.1-he6710b0_1\n",
            "unlinking: openssl-1.0.2p-h14c3975_0\n",
            "unlinking: pycosat-0.6.3-py37h14c3975_0\n",
            "unlinking: pycparser-2.18-py37_1\n",
            "unlinking: pysocks-1.6.8-py37_0\n",
            "unlinking: python-3.7.0-hc3d631a_0\n",
            "unlinking: python-3.7.1-h0371630_7\n",
            "unlinking: readline-7.0-h7b6447c_5\n",
            "unlinking: sqlite-3.24.0-h84994c4_0\n",
            "unlinking: tk-8.6.8-hbc83047_0\n",
            "installation finished.\n",
            "WARNING:\n",
            "    You currently have a PYTHONPATH environment variable set. This may cause\n",
            "    unexpected behavior when running the Python interpreter in Miniconda3.\n",
            "    For best results, please verify that your PYTHONPATH only points to\n",
            "    directories of packages that are compatible with the Python interpreter\n",
            "    in Miniconda3: /usr/local\n"
          ],
          "name": "stdout"
        }
      ]
    },
    {
      "cell_type": "code",
      "metadata": {
        "id": "bdUqnhnR7Rnk",
        "outputId": "42998175-aab8-4695-f324-baba2c993776",
        "colab": {
          "base_uri": "https://localhost:8080/"
        }
      },
      "source": [
        "!conda env create --file dl-lab-pjoject/environment.yml"
      ],
      "execution_count": 9,
      "outputs": [
        {
          "output_type": "stream",
          "text": [
            "Solving environment: - \b\b\\ \b\b| \b\b/ \b\b- \b\b\\ \b\b| \b\b/ \b\b- \b\b\\ \b\b| \b\b/ \b\b- \b\b\\ \b\b| \b\b/ \b\b- \b\b\\ \b\b| \b\b/ \b\b- \b\b\\ \b\b| \b\b/ \b\b- \b\b\\ \b\b| \b\b/ \b\b- \b\b\\ \b\b| \b\b/ \b\b- \b\b\\ \b\b| \b\b/ \b\b- \b\b\\ \b\b| \b\b/ \b\b- \b\b\\ \b\b| \b\b/ \b\b- \b\b\\ \b\b| \b\b/ \b\b- \b\b\\ \b\b| \b\b/ \b\b- \b\b\\ \b\b| \b\b/ \b\b- \b\b\\ \b\b| \b\b/ \b\b- \b\b\\ \b\b| \b\b/ \b\b- \b\b\\ \b\b| \b\b/ \b\b- \b\b\\ \b\b| \b\b/ \b\b- \b\b\\ \b\b| \b\b/ \b\b- \b\b\\ \b\b| \b\b/ \b\b- \b\b\\ \b\b| \b\b/ \b\b- \b\b\\ \b\b| \b\b/ \b\b- \b\b\\ \b\b| \b\b/ \b\b- \b\b\\ \b\b| \b\b/ \b\b- \b\b\\ \b\b| \b\b/ \b\b- \b\b\\ \b\b| \b\b/ \b\b- \b\b\\ \b\b| \b\b/ \b\b- \b\b\\ \b\b| \b\b/ \b\b- \b\b\\ \b\b| \b\b/ \b\b- \b\b\\ \b\b| \b\b/ \b\b- \b\b\\ \b\b| \b\b/ \b\b- \b\b\\ \b\b| \b\b/ \b\b- \b\b\\ \b\b| \b\b/ \b\b- \b\b\\ \b\b| \b\b/ \b\b- \b\b\\ \b\b| \b\b/ \b\b- \b\b\\ \b\b| \b\b/ \b\b- \b\b\\ \b\b| \b\b/ \b\b- \b\b\\ \b\b| \b\b/ \b\b- \b\b\\ \b\b| \b\b/ \b\b- \b\b\\ \b\b| \b\b/ \b\b- \b\b\\ \b\b| \b\b/ \b\b- \b\b\\ \b\b| \b\b/ \b\b- \b\b\\ \b\b| \b\b/ \b\b- \b\b\\ \b\b| \b\b/ \b\b- \b\b\\ \b\b| \b\b/ \b\b- \b\b\\ \b\b| \b\b/ \b\b- \b\b\\ \b\b| \b\b/ \b\b- \b\b\\ \b\b| \b\b/ \b\b- \b\b\\ \b\b| \b\b/ \b\b- \b\b\\ \b\b| \b\b/ \b\b- \b\b\\ \b\b| \b\b/ \b\b- \b\b\\ \b\b| \b\b/ \b\b- \b\b\\ \b\b| \b\b/ \b\b- \b\b\\ \b\b| \b\b/ \b\b- \b\b\\ \b\b| \b\b/ \b\b- \b\b\\ \b\b| \b\b/ \b\b- \b\b\\ \b\b| \b\b/ \b\b- \b\b\\ \b\b| \b\b/ \b\b- \b\b\\ \b\b| \b\b/ \b\b- \b\b\\ \b\b| \b\b/ \b\b- \b\b\\ \b\b| \b\b/ \b\b- \b\b\\ \b\b| \b\b/ \b\b- \b\b\\ \b\b| \b\b/ \b\b- \b\b\\ \b\b| \b\b/ \b\b- \b\b\\ \b\b| \b\b/ \b\b- \b\b\\ \b\b| \b\b/ \b\b- \b\b\\ \b\b| \b\b/ \b\b- \b\b\\ \b\b| \b\b/ \b\b- \b\b\\ \b\b| \b\b/ \b\b- \b\b\\ \b\b| \b\b/ \b\b- \b\b\\ \b\b| \b\b/ \b\b- \b\b\\ \b\b| \b\b/ \b\b- \b\b\\ \b\b| \b\b/ \b\b- \b\b\\ \b\b| \b\b/ \b\b- \b\b\\ \b\b| \b\b/ \b\b- \b\b\\ \b\b| \b\b/ \b\b- \b\b\\ \b\b| \b\b/ \b\b- \b\b\\ \b\b| \b\b/ \b\b- \b\b\\ \b\b| \b\b/ \b\b- \b\b\\ \b\b| \b\b/ \b\b- \b\b\\ \b\b| \b\b/ \b\b- \b\b\\ \b\b| \b\b/ \b\b- \b\b\\ \b\b| \b\b/ \b\b- \b\b\\ \b\b| \b\b/ \b\b- \b\b\\ \b\b| \b\b/ \b\b- \b\b\\ \b\b| \b\b/ \b\b- \b\b\\ \b\b| \b\b/ \b\b- \b\b\\ \b\b| \b\b/ \b\b- \b\b\\ \b\b| \b\b/ \b\b- \b\b\\ \b\b| \b\b/ \b\b- \b\b\\ \b\b| \b\b/ \b\b- \b\b\\ \b\b| \b\b/ \b\b- \b\b\\ \b\b| \b\b/ \b\b- \b\b\\ \b\b| \b\b/ \b\b- \b\b\\ \b\b| \b\b/ \b\b- \b\b\\ \b\b| \b\b/ \b\b- \b\b\\ \b\b| \b\b/ \b\b- \b\b\\ \b\b| \b\b/ \b\b- \b\b\\ \b\b| \b\b/ \b\b- \b\b\\ \b\b| \b\b/ \b\b- \b\b\\ \b\b| \b\b/ \b\b- \b\b\\ \b\b| \b\b/ \b\b- \b\b\\ \b\b| \b\b/ \b\b- \b\b\\ \b\b| \b\b/ \b\b- \b\b\\ \b\b| \b\b/ \b\b- \b\b\\ \b\b| \b\b/ \b\b- \b\b\\ \b\b| \b\b/ \b\b- \b\b\\ \b\b| \b\b/ \b\b- \b\b\\ \b\b| \b\b/ \b\b- \b\b\\ \b\b| \b\b/ \b\b- \b\b\\ \b\b| \b\b/ \b\b- \b\b\\ \b\b| \b\b/ \b\b- \b\b\\ \b\b| \b\b/ \b\b- \b\b\\ \b\b| \b\b/ \b\b- \b\b\\ \b\b| \b\b/ \b\b- \b\b\\ \b\b| \b\b/ \b\b- \b\b\\ \b\b| \b\b/ \b\b- \b\b\\ \b\b| \b\b/ \b\b- \b\b\\ \b\b| \b\b/ \b\b- \b\b\\ \b\b| \b\b/ \b\b- \b\b\\ \b\b| \b\b/ \b\b- \b\b\\ \b\b| \b\b/ \b\b- \b\b\\ \b\b| \b\b/ \b\b- \b\b\\ \b\b| \b\b/ \b\b- \b\b\\ \b\b| \b\b/ \b\b- \b\b\\ \b\b| \b\b/ \b\b- \b\b\\ \b\b| \b\b/ \b\b- \b\b\\ \b\b| \b\b/ \b\b- \b\b\\ \b\b| \b\b/ \b\b- \b\b\\ \b\b| \b\b/ \b\b- \b\b\\ \b\b| \b\b/ \b\b- \b\b\\ \b\b| \b\b/ \b\b- \b\b\\ \b\b| \b\b/ \b\b- \b\b\\ \b\b| \b\b/ \b\b- \b\b\\ \b\b| \b\b/ \b\b- \b\b\\ \b\b| \b\b/ \b\b- \b\b\\ \b\b| \b\b/ \b\b- \b\b\\ \b\b| \b\b/ \b\b- \b\b\\ \b\b| \b\b/ \b\b- \b\b\\ \b\b| \b\b/ \b\b- \b\b\\ \b\b| \b\b/ \b\b- \b\b\\ \b\b| \b\b/ \b\b- \b\b\\ \b\b| \b\b/ \b\b- \b\b\\ \b\b| \b\b/ \b\b- \b\b\\ \b\b| \b\b/ \b\b- \b\b\\ \b\b| \b\b/ \b\b- \b\b\\ \b\b| \b\b/ \b\b- \b\b\\ \b\b| \b\b/ \b\b- \b\b\\ \b\b| \b\b/ \b\b- \b\b\\ \b\b| \b\b/ \b\b- \b\b\\ \b\b| \b\b/ \b\b- \b\b\\ \b\b| \b\b/ \b\b- \b\b\\ \b\b| \b\b/ \b\b- \b\b\\ \b\b| \b\b/ \b\b- \b\b\\ \b\b| \b\b/ \b\b- \b\b\\ \b\b| \b\b/ \b\b- \b\b\\ \b\b| \b\b/ \b\b- \b\b\\ \b\b| \b\b/ \b\b- \b\b\\ \b\b| \b\bdone\n",
            "\n",
            "\n",
            "==> WARNING: A newer version of conda exists. <==\n",
            "  current version: 4.5.4\n",
            "  latest version: 4.10.1\n",
            "\n",
            "Please update conda by running\n",
            "\n",
            "    $ conda update -n base conda\n",
            "\n",
            "\n",
            "\n",
            "Downloading and Extracting Packages\n",
            "parso-0.8.2          |   68 KB | : 100% 1.0/1 [00:00<00:00, 17.01it/s]\n",
            "ffmpeg-4.3           |  9.9 MB | : 100% 1.0/1 [00:03<00:00,  3.66s/it]               \n",
            "cudatoolkit-10.2.89  | 540.0 MB | : 100% 1.0/1 [01:40<00:00, 100.47s/it]               \n",
            "jsonschema-3.2.0     |   45 KB | : 100% 1.0/1 [00:00<00:00, 17.35it/s]\n",
            "lcms2-2.12           |  396 KB | : 100% 1.0/1 [00:00<00:00,  8.09it/s]\n",
            "pcre-8.44            |  269 KB | : 100% 1.0/1 [00:00<00:00, 10.87it/s]\n",
            "ninja-1.10.2         |  1.9 MB | : 100% 1.0/1 [00:00<00:00,  2.44it/s]               \n",
            "cffi-1.14.5          |  224 KB | : 100% 1.0/1 [00:00<00:00, 10.57it/s]\n",
            "webencodings-0.5.1   |   19 KB | : 100% 1.0/1 [00:00<00:00, 26.21it/s]\n",
            "prompt_toolkit-3.0.1 |   12 KB | : 100% 1.0/1 [00:00<00:00, 41.56it/s]\n",
            "mistune-0.8.4        |   54 KB | : 100% 1.0/1 [00:00<00:00, 13.99it/s]\n",
            "nbconvert-6.0.7      |  548 KB | : 100% 1.0/1 [00:00<00:00,  2.63it/s]               \n",
            "qtconsole-5.1.0      |   96 KB | : 100% 1.0/1 [00:00<00:00, 14.86it/s]\n",
            "libuv-1.40.0         |  933 KB | : 100% 1.0/1 [00:00<00:00,  5.15it/s]               \n",
            "decorator-5.0.9      |   12 KB | : 100% 1.0/1 [00:00<00:00, 31.02it/s]\n",
            "defusedxml-0.7.1     |   24 KB | : 100% 1.0/1 [00:00<00:00, 28.20it/s]\n",
            "bzip2-1.0.8          |  105 KB | : 100% 1.0/1 [00:00<00:00, 14.00it/s]\n",
            "ca-certificates-2021 |  118 KB | : 100% 1.0/1 [00:00<00:00, 22.99it/s]\n",
            "pygments-2.9.0       |  755 KB | : 100% 1.0/1 [00:00<00:00,  2.98it/s]               \n",
            "ipython_genutils-0.2 |   27 KB | : 100% 1.0/1 [00:00<00:00, 18.47it/s]\n",
            "libxml2-2.9.10       |  1.3 MB | : 100% 1.0/1 [00:00<00:00,  1.71it/s]               \n",
            "ptyprocess-0.7.0     |   16 KB | : 100% 1.0/1 [00:00<00:00, 28.54it/s]\n",
            "libstdcxx-ng-9.3.0   |  4.0 MB | : 100% 1.0/1 [00:00<00:00,  1.13it/s]               \n",
            "pyqt-5.9.2           |  5.6 MB | : 100% 1.0/1 [00:01<00:00,  1.91s/it]               \n",
            "widgetsnbextension-3 |  1.8 MB | : 100% 1.0/1 [00:00<00:00,  1.86it/s]               \n",
            "numpy-base-1.19.2    |  5.2 MB | : 100% 1.0/1 [00:01<00:00,  1.71s/it]               \n",
            "libunistring-0.9.10  |  689 KB | : 100% 1.0/1 [00:00<00:00,  3.65it/s]               \n",
            "nbclient-0.5.3       |   67 KB | : 100% 1.0/1 [00:00<00:00, 15.97it/s]\n",
            "async_generator-1.10 |   38 KB | : 100% 1.0/1 [00:00<00:00,  7.05it/s]               \n",
            "torchvision-0.9.1    | 25.7 MB | : 100% 1.0/1 [00:07<00:00,  7.15s/it]               \n",
            "nettle-3.7.3         | 1009 KB | : 100% 1.0/1 [00:00<00:00,  2.49it/s]              \n",
            "sip-4.19.8           |  290 KB | : 100% 1.0/1 [00:00<00:00,  9.53it/s]\n",
            "jinja2-3.0.0         |   99 KB | : 100% 1.0/1 [00:00<00:00, 12.79it/s]\n",
            "pandoc-2.12          | 12.4 MB | : 100% 1.0/1 [00:04<00:00,  4.78s/it]               \n",
            "nbformat-5.1.3       |   47 KB | : 100% 1.0/1 [00:00<00:00, 13.35it/s]\n",
            "prometheus_client-0. |   47 KB | : 100% 1.0/1 [00:00<00:00, 17.85it/s]\n",
            "libpng-1.6.37        |  364 KB | : 100% 1.0/1 [00:00<00:00,  9.72it/s]\n",
            "intel-openmp-2021.2. |  1.9 MB | : 100% 1.0/1 [00:00<00:00,  2.33it/s]               \n",
            "dataclasses-0.8      |   22 KB | : 100% 1.0/1 [00:00<00:00, 32.21it/s]\n",
            "_openmp_mutex-4.5    |   22 KB | : 100% 1.0/1 [00:00<00:00, 21.21it/s]\n",
            "gnutls-3.6.15        |  1.2 MB | : 100% 1.0/1 [00:00<00:00,  2.32it/s]               \n",
            "python-3.6.13        | 32.5 MB | : 100% 1.0/1 [00:07<00:00,  7.02s/it]               \n",
            "terminado-0.9.4      |   24 KB | : 100% 1.0/1 [00:00<00:00, 26.58it/s]\n",
            "libxcb-1.14          |  610 KB | : 100% 1.0/1 [00:00<00:00,  3.26it/s]               \n",
            "dbus-1.13.18         |  586 KB | : 100% 1.0/1 [00:00<00:00,  5.04it/s]               \n",
            "lame-3.100           |  502 KB | : 100% 1.0/1 [00:00<00:00,  3.56it/s]              \n",
            "ipywidgets-7.6.3     |  109 KB | : 100% 1.0/1 [00:00<00:00,  9.29it/s]\n",
            "torchaudio-0.8.1     |  4.4 MB | : 100% 1.0/1 [00:02<00:00,  2.45s/it]               \n",
            "markupsafe-2.0.1     |   22 KB | : 100% 1.0/1 [00:00<00:00, 26.89it/s]\n",
            "readline-8.1         |  464 KB | : 100% 1.0/1 [00:00<00:00,  5.60it/s]               \n",
            "ipykernel-5.3.4      |  176 KB | : 100% 1.0/1 [00:00<00:00,  8.04it/s]\n",
            "jupyterlab_widgets-1 |  134 KB | : 100% 1.0/1 [00:00<00:00, 10.18it/s]\n",
            "jupyter-1.0.0        |    6 KB | : 100% 1.0/1 [00:00<00:00, 35.49it/s]\n",
            "pytorch-1.8.1        | 673.3 MB | : 100% 1.0/1 [02:38<00:00, 158.04s/it]               \n",
            "libidn2-2.3.1        |   98 KB | : 100% 1.0/1 [00:00<00:00,  5.15it/s]                \n",
            "qt-5.9.7             | 85.9 MB | : 100% 1.0/1 [00:23<00:00, 23.24s/it]               \n",
            "importlib-metadata-3 |   33 KB | : 100% 1.0/1 [00:00<00:00, 21.74it/s]\n",
            "importlib_metadata-3 |   11 KB | : 100% 1.0/1 [00:00<00:00, 39.26it/s]\n",
            "mkl_fft-1.3.0        |  185 KB | : 100% 1.0/1 [00:00<00:00, 13.60it/s]\n",
            "openssl-1.1.1k       |  3.8 MB | : 100% 1.0/1 [00:00<00:00,  1.10it/s]               \n",
            "send2trash-1.5.0     |   14 KB | : 100% 1.0/1 [00:00<00:00, 33.86it/s]\n",
            "zstd-1.4.9           |  809 KB | : 100% 1.0/1 [00:00<00:00,  4.61it/s]               \n",
            "libiconv-1.15        |  2.0 MB | : 100% 1.0/1 [00:00<00:00,  2.81it/s]               \n",
            "freetype-2.10.4      |  901 KB | : 100% 1.0/1 [00:00<00:00,  3.99it/s]               \n",
            "libtasn1-4.16.0      |   62 KB | : 100% 1.0/1 [00:00<00:00,  8.16it/s]               \n",
            "wheel-0.36.2         |   31 KB | : 100% 1.0/1 [00:00<00:00, 23.09it/s]\n",
            "pexpect-4.8.0        |   51 KB | : 100% 1.0/1 [00:00<00:00, 15.97it/s]\n",
            "lz4-c-1.9.3          |  216 KB | : 100% 1.0/1 [00:00<00:00, 11.93it/s]\n",
            "openh264-2.1.0       |  1.5 MB | : 100% 1.0/1 [00:00<00:00,  2.33it/s]               \n",
            "pyzmq-20.0.0         |  472 KB | : 100% 1.0/1 [00:00<00:00,  3.82it/s]               \n",
            "libgcc-ng-9.3.0      |  7.8 MB | : 100% 1.0/1 [00:01<00:00,  1.65s/it]               \n",
            "pycparser-2.20       |   94 KB | : 100% 1.0/1 [00:00<00:00, 10.20it/s]\n",
            "prompt-toolkit-3.0.1 |  251 KB | : 100% 1.0/1 [00:00<00:00,  5.54it/s]               \n",
            "entrypoints-0.3      |   12 KB | : 100% 1.0/1 [00:00<00:00, 15.92it/s]\n",
            "olefile-0.46         |   48 KB | : 100% 1.0/1 [00:00<00:00, 26.98it/s]\n",
            "glib-2.68.2          |  3.5 MB | : 100% 1.0/1 [00:01<00:00,  1.42s/it]               \n",
            "libtiff-4.2.0        |  640 KB | : 100% 1.0/1 [00:00<00:00,  4.65it/s]              \n",
            "jupyter_core-4.7.1   |   72 KB | : 100% 1.0/1 [00:00<00:00, 11.72it/s]\n",
            "traitlets-4.3.3      |  137 KB | : 100% 1.0/1 [00:00<00:00, 11.48it/s]\n",
            "gst-plugins-base-1.1 |  6.3 MB | : 100% 1.0/1 [00:01<00:00,  1.52s/it]               \n",
            "tk-8.6.10            |  3.2 MB | : 100% 1.0/1 [00:00<00:00,  1.05it/s]               \n",
            "six-1.15.0           |   27 KB | : 100% 1.0/1 [00:00<00:00, 25.50it/s]\n",
            "pip-21.1.2           |  2.1 MB | : 100% 1.0/1 [00:00<00:00,  1.05it/s]               \n",
            "notebook-6.4.0       |  6.3 MB | : 100% 1.0/1 [00:02<00:00,  2.37s/it]               \n",
            "mkl_random-1.1.1     |  382 KB | : 100% 1.0/1 [00:00<00:00,  9.95it/s]\n",
            "jedi-0.17.0          |  809 KB | : 100% 1.0/1 [00:00<00:00,  1.27it/s]               \n",
            "wcwidth-0.2.5        |   37 KB | : 100% 1.0/1 [00:00<00:00, 20.18it/s]\n",
            "jupyter_console-6.4. |   23 KB | : 100% 1.0/1 [00:00<00:00, 26.50it/s]\n",
            "pickleshare-0.7.5    |   13 KB | : 100% 1.0/1 [00:00<00:00, 28.62it/s]\n",
            "tornado-6.1          |  643 KB | : 100% 1.0/1 [00:00<00:00,  2.98it/s]              \n",
            "python-dateutil-2.8. |  221 KB | : 100% 1.0/1 [00:00<00:00, 13.67it/s]\n",
            "pandocfilters-1.4.3  |   14 KB | : 100% 1.0/1 [00:00<00:00, 35.70it/s]\n",
            "libwebp-base-1.2.0   |  849 KB | : 100% 1.0/1 [00:00<00:00,  3.88it/s]               \n",
            "ncurses-6.2          |  1.1 MB | : 100% 1.0/1 [00:01<00:00,  1.05s/it]               \n",
            "gstreamer-1.14.0     |  4.0 MB | : 100% 1.0/1 [00:00<00:00,  1.04it/s]               \n",
            "fontconfig-2.13.1    |  299 KB | : 100% 1.0/1 [00:00<00:00,  8.02it/s]\n",
            "typing_extensions-3. |   25 KB | : 100% 1.0/1 [00:00<00:00, 17.43it/s]\n",
            "certifi-2021.5.30    |  141 KB | : 100% 1.0/1 [00:00<00:00, 19.25it/s]\n",
            "testpath-0.4.4       |   85 KB | : 100% 1.0/1 [00:00<00:00, 27.28it/s]\n",
            "mkl-service-2.3.0    |   56 KB | : 100% 1.0/1 [00:00<00:00, 25.42it/s]\n",
            "attrs-21.2.0         |   44 KB | : 100% 1.0/1 [00:00<00:00, 20.27it/s]\n",
            "icu-58.2             | 22.7 MB | : 100% 1.0/1 [00:04<00:00,  4.95s/it]               \n",
            "sqlite-3.35.4        |  1.4 MB | : 100% 1.0/1 [00:00<00:00,  3.23it/s]               \n",
            "zipp-3.4.1           |   15 KB | : 100% 1.0/1 [00:00<00:00, 38.11it/s]\n",
            "setuptools-52.0.0    |  933 KB | : 100% 1.0/1 [00:00<00:00,  2.42it/s]               \n",
            "jupyter_client-6.1.1 |   87 KB | : 100% 1.0/1 [00:00<00:00, 15.07it/s]\n",
            "nest-asyncio-1.5.1   |    9 KB | : 100% 1.0/1 [00:00<00:00, 35.37it/s]\n",
            "qtpy-1.9.0           |   39 KB | : 100% 1.0/1 [00:00<00:00, 17.07it/s]\n",
            "pillow-8.2.0         |  689 KB | : 100% 1.0/1 [00:00<00:00,  3.83it/s]               \n",
            "libsodium-1.0.18     |  387 KB | : 100% 1.0/1 [00:00<00:00,  8.53it/s]               \n",
            "pyparsing-2.4.7      |   59 KB | : 100% 1.0/1 [00:00<00:00, 25.93it/s]\n",
            "packaging-20.9       |   35 KB | : 100% 1.0/1 [00:00<00:00, 24.45it/s]\n",
            "libffi-3.3           |   54 KB | : 100% 1.0/1 [00:00<00:00, 21.64it/s]\n",
            "xz-5.2.5             |  438 KB | : 100% 1.0/1 [00:00<00:00,  5.62it/s]               \n",
            "pyrsistent-0.17.3    |   89 KB | : 100% 1.0/1 [00:00<00:00, 15.53it/s]\n",
            "zeromq-4.3.4         |  358 KB | : 100% 1.0/1 [00:00<00:00,  7.18it/s]               \n",
            "libgomp-9.3.0        |  378 KB | : 100% 1.0/1 [00:00<00:00,  8.93it/s]\n",
            "numpy-1.19.2         |   21 KB | : 100% 1.0/1 [00:00<00:00, 33.25it/s]\n",
            "expat-2.4.1          |  211 KB | : 100% 1.0/1 [00:00<00:00, 12.53it/s]\n",
            "jupyterlab_pygments- |    8 KB | : 100% 1.0/1 [00:00<00:00, 36.95it/s]\n",
            "gmp-6.2.1            |  814 KB | : 100% 1.0/1 [00:00<00:00,  4.52it/s]               \n",
            "argon2-cffi-20.1.0   |   49 KB | : 100% 1.0/1 [00:00<00:00, 25.17it/s]\n",
            "bleach-3.3.0         |  111 KB | : 100% 1.0/1 [00:00<00:00, 11.93it/s]\n",
            "ld_impl_linux-64-2.3 |  637 KB | : 100% 1.0/1 [00:00<00:00,  4.73it/s]               \n",
            "ipython-7.16.1       |  1.1 MB | : 100% 1.0/1 [00:00<00:00,  1.64it/s]               \n",
            "backcall-0.2.0       |   13 KB | : 100% 1.0/1 [00:00<00:00, 23.50it/s]\n",
            "mkl-2020.2           | 213.9 MB | : 100% 1.0/1 [00:53<00:00, 53.97s/it]                \n",
            "Preparing transaction: - \b\b\\ \b\b| \b\b/ \b\b- \b\b\\ \b\b| \b\b/ \b\b- \b\b\\ \b\b| \b\b/ \b\b- \b\b\\ \b\b| \b\b/ \b\b- \b\b\\ \b\b| \b\b/ \b\b- \b\bdone\n",
            "Verifying transaction: | \b\b/ \b\b- \b\b\\ \b\b| \b\b/ \b\b- \b\b\\ \b\b| \b\b/ \b\b- \b\b\\ \b\b| \b\b/ \b\b- \b\b\\ \b\b| \b\b/ \b\b- \b\b\\ \b\b| \b\b/ \b\b- \b\b\\ \b\b| \b\b/ \b\b- \b\b\\ \b\b| \b\b/ \b\b- \b\b\\ \b\b| \b\b/ \b\b- \b\b\\ \b\b| \b\b/ \b\b- \b\b\\ \b\b| \b\b/ \b\b- \b\b\\ \b\b| \b\b/ \b\b- \b\b\\ \b\b| \b\b/ \b\b- \b\b\\ \b\b| \b\b/ \b\b- \b\b\\ \b\b| \b\b/ \b\b- \b\b\\ \b\b| \b\b/ \b\b- \b\b\\ \b\b| \b\b/ \b\b- \b\b\\ \b\b| \b\b/ \b\b- \b\b\\ \b\b| \b\b/ \b\b- \b\b\\ \b\b| \b\b/ \b\b- \b\b\\ \b\b| \b\b/ \b\b- \b\b\\ \b\b| \b\b/ \b\b- \b\b\\ \b\b| \b\b/ \b\b- \b\b\\ \b\b| \b\b/ \b\b- \b\b\\ \b\b| \b\b/ \b\b- \b\b\\ \b\b| \b\b/ \b\b- \b\b\\ \b\b| \b\b/ \b\b- \b\b\\ \b\b| \b\b/ \b\b- \b\b\\ \b\b| \b\b/ \b\b- \b\b\\ \b\b| \b\b/ \b\b- \b\b\\ \b\b| \b\b/ \b\b- \b\b\\ \b\b| \b\b/ \b\b- \b\b\\ \b\b| \b\b/ \b\b- \b\b\\ \b\b| \b\b/ \b\b- \b\b\\ \b\b| \b\b/ \b\b- \b\b\\ \b\b| \b\b/ \b\b- \b\b\\ \b\b| \b\b/ \b\b- \b\b\\ \b\b| \b\b/ \b\b- \b\b\\ \b\b| \b\b/ \b\b- \b\b\\ \b\b| \b\b/ \b\b- \b\b\\ \b\b| \b\b/ \b\b- \b\b\\ \b\b| \b\b/ \b\b- \b\b\\ \b\b| \b\b/ \b\b- \b\b\\ \b\b| \b\b/ \b\b- \b\b\\ \b\b| \b\b/ \b\b- \b\b\\ \b\b| \b\b/ \b\b- \b\b\\ \b\b| \b\b/ \b\b- \b\b\\ \b\b| \b\b/ \b\b- \b\b\\ \b\b| \b\b/ \b\b- \b\b\\ \b\b| \b\b/ \b\b- \b\b\\ \b\b| \b\b/ \b\b- \b\b\\ \b\b| \b\b/ \b\b- \b\b\\ \b\b| \b\b/ \b\b- \b\b\\ \b\b| \b\b/ \b\b- \b\b\\ \b\b| \b\b/ \b\b- \b\b\\ \b\b| \b\b/ \b\b- \b\b\\ \b\b| \b\b/ \b\b- \b\b\\ \b\b| \b\b/ \b\b- \b\b\\ \b\b| \b\b/ \b\b- \b\b\\ \b\b| \b\b/ \b\b- \b\b\\ \b\b| \b\b/ \b\b- \b\b\\ \b\b| \b\b/ \b\b- \b\b\\ \b\b| \b\b/ \b\b- \b\b\\ \b\b| \b\b/ \b\b- \b\b\\ \b\b| \b\b/ \b\b- \b\b\\ \b\b| \b\b/ \b\b- \b\b\\ \b\b| \b\b/ \b\b- \b\b\\ \b\b| \b\b/ \b\b- \b\b\\ \b\b| \b\b/ \b\b- \b\b\\ \b\b| \b\b/ \b\b- \b\b\\ \b\b| \b\b/ \b\b- \b\b\\ \b\b| \b\b/ \b\b- \b\b\\ \b\b| \b\b/ \b\b- \b\b\\ \b\b| \b\b/ \b\b- \b\b\\ \b\b| \b\b/ \b\b- \b\b\\ \b\b| \b\b/ \b\b- \b\b\\ \b\b| \b\b/ \b\b- \b\b\\ \b\b| \b\b/ \b\b- \b\b\\ \b\b| \b\b/ \b\b- \b\b\\ \b\b| \b\b/ \b\b- \b\b\\ \b\b| \b\b/ \b\b- \b\b\\ \b\b| \b\b/ \b\b- \b\b\\ \b\b| \b\b/ \b\b- \b\b\\ \b\b| \b\b/ \b\b- \b\b\\ \b\b| \b\b/ \b\b- \b\b\\ \b\b| \b\b/ \b\b- \b\b\\ \b\b| \b\b/ \b\b- \b\b\\ \b\b| \b\b/ \b\b- \b\b\\ \b\b| \b\b/ \b\b- \b\b\\ \b\b| \b\b/ \b\b- \b\b\\ \b\b| \b\b/ \b\b- \b\b\\ \b\b| \b\b/ \b\b- \b\b\\ \b\b| \b\b/ \b\b- \b\b\\ \b\b| \b\b/ \b\b- \b\b\\ \b\b| \b\b/ \b\b- \b\b\\ \b\b| \b\b/ \b\bdone\n",
            "Executing transaction: \\ \b\b| \b\b/ \b\b- \b\b\\ \b\b| \b\b/ \b\b- \b\b\\ \b\b| \b\b/ \b\b- \b\b\\ \b\b| \b\b/ \b\b- \b\b\\ \b\b| \b\b/ \b\b- \b\b\\ \b\b| \b\b/ \b\b- \b\b\\ \b\b| \b\b/ \b\b- \b\b\\ \b\b| \b\b/ \b\b- \b\b\\ \b\b| \b\b/ \b\b- \b\b\\ \b\b| \b\b/ \b\b- \b\b\\ \b\b| \b\b/ \b\b- \b\b\\ \b\b| \b\b/ \b\b- \b\b\\ \b\b| \b\b/ \b\b- \b\b\\ \b\b| \b\b/ \b\b- \b\b\\ \b\b| \b\b/ \b\b- \b\b\\ \b\b| \b\b/ \b\b- \b\b\\ \b\b| \b\b/ \b\b- \b\b\\ \b\b| \b\b/ \b\b- \b\b\\ \b\b| \b\b/ \b\b- \b\b\\ \b\b| \b\b/ \b\b- \b\b\\ \b\b| \b\b/ \b\b- \b\b\\ \b\b| \b\b/ \b\b- \b\b\\ \b\b| \b\b/ \b\b- \b\b\\ \b\b| \b\b/ \b\b- \b\b\\ \b\b| \b\b/ \b\b- \b\b\\ \b\b| \b\b/ \b\b- \b\b\\ \b\b| \b\b/ \b\b- \b\b\\ \b\b| \b\b/ \b\b- \b\b\\ \b\b| \b\b/ \b\b- \b\b\\ \b\b| \b\b/ \b\b- \b\b\\ \b\b| \b\b/ \b\b- \b\b\\ \b\b| \b\b/ \b\b- \b\b\\ \b\b| \b\b/ \b\b- \b\b\\ \b\b| \b\b/ \b\b- \b\b\\ \b\b| \b\b/ \b\b- \b\b\\ \b\b| \b\b/ \b\b- \b\b\\ \b\b| \b\b/ \b\b- \b\b\\ \b\b| \b\b/ \b\b- \b\b\\ \b\b| \b\b/ \b\b- \b\b\\ \b\b| \b\b/ \b\b- \b\b\\ \b\b| \b\b/ \b\b- \b\b\\ \b\b| \b\b/ \b\b- \b\b\\ \b\b| \b\b/ \b\b- \b\b\\ \b\b| \b\b/ \b\b- \b\b\\ \b\b| \b\b/ \b\b- \b\b\\ \b\b| \b\b/ \b\b- \b\b\\ \b\b| \b\b/ \b\b- \b\b\\ \b\b| \b\b/ \b\b- \b\b\\ \b\b| \b\b/ \b\b- \b\b\\ \b\b| \b\b/ \b\b- \b\b\\ \b\b| \b\b/ \b\b- \b\b\\ \b\b| \b\b/ \b\b- \b\b\\ \b\b| \b\b/ \b\b- \b\b\\ \b\b| \b\b/ \b\b- \b\b\\ \b\b| \b\b/ \b\b- \b\b\\ \b\b| \b\b/ \b\b- \b\b\\ \b\b| \b\b/ \b\b- \b\b\\ \b\b| \b\b/ \b\b- \b\b\\ \b\b| \b\b/ \b\b- \b\b\\ \b\b| \b\b/ \b\b- \b\b\\ \b\b| \b\b/ \b\b- \b\b\\ \b\b| \b\b/ \b\b- \b\b\\ \b\b| \b\b/ \b\b- \b\b\\ \b\b| \b\b/ \b\b- \b\b\\ \b\b| \b\b/ \b\b- \b\b\\ \b\b| \b\b/ \b\b- \b\b\\ \b\b| \b\b/ \b\b- \b\b\\ \b\b| \b\b/ \b\b- \b\b\\ \b\b| \b\b/ \b\b- \b\b\\ \b\b| \b\b/ \b\b- \b\b\\ \b\b| \b\b/ \b\b- \b\b\\ \b\b| \b\b/ \b\b- \b\b\\ \b\b| \b\b/ \b\b- \b\b\\ \b\b| \b\b/ \b\b- \b\b\\ \b\b| \b\b/ \b\b- \b\b\\ \b\b| \b\b/ \b\b- \b\b\\ \b\b| \b\b/ \b\b- \b\b\\ \b\b| \b\b/ \b\b- \b\b\\ \b\b| \b\b/ \b\b- \b\b\\ \b\b| \b\b/ \b\b- \b\b\\ \b\b| \b\b/ \b\b- \b\b\\ \b\b| \b\b/ \b\b- \b\b\\ \b\b| \b\b/ \b\b- \b\b\\ \b\b| \b\b/ \b\b- \b\b\\ \b\b| \b\b/ \b\b- \b\b\\ \b\b| \b\b/ \b\b- \b\b\\ \b\b| \b\b/ \b\b- \b\b\\ \b\b| \b\b/ \b\b- \b\b\\ \b\b| \b\b/ \b\b- \b\b\\ \b\b| \b\b/ \b\b- \b\b\\ \b\b| \b\b/ \b\b- \b\b\\ \b\b| \b\b/ \b\b- \b\b\\ \b\b| \b\b/ \b\b- \b\b\\ \b\b| \b\b/ \b\b- \b\b\\ \b\b| \b\b/ \b\b- \b\b\\ \b\b| \b\b/ \b\b- \b\b\\ \b\b| \b\b/ \b\b- \b\b\\ \b\b| \b\b/ \b\b- \b\b\\ \b\b| \b\b/ \b\b- \b\b\\ \b\b| \b\b/ \b\b- \b\b\\ \b\b| \b\b/ \b\b- \b\b\\ \b\b| \b\b/ \b\b- \b\b\\ \b\b| \b\b/ \b\b- \b\b\\ \b\b| \b\b/ \b\b- \b\b\\ \b\b| \b\b/ \b\b- \b\b\\ \b\b| \b\b/ \b\b- \b\b\\ \b\b| \b\b/ \b\b- \b\b\\ \b\b| \b\b/ \b\b- \b\b\\ \b\b| \b\b/ \b\b- \b\b\\ \b\b| \b\b/ \b\b- \b\b\\ \b\b| \b\b/ \b\b- \b\b\\ \b\b| \b\b/ \b\b- \b\b\\ \b\b| \b\b/ \b\b- \b\b\\ \b\b| \b\b/ \b\b- \b\b\\ \b\b| \b\b/ \b\b- \b\b\\ \b\b| \b\b/ \b\b- \b\b\\ \b\b| \b\b/ \b\b- \b\b\\ \b\b| \b\b/ \b\b- \b\b\\ \b\b| \b\b/ \b\b- \b\b\\ \b\b| \b\b/ \b\b- \b\b\\ \b\b| \b\b/ \b\b- \b\b\\ \b\b| \b\b/ \b\b- \b\b\\ \b\b| \b\b/ \b\b- \b\b\\ \b\b| \b\b/ \b\b- \b\b\\ \b\b| \b\b/ \b\b- \b\b\\ \b\b| \b\b/ \b\b- \b\b\\ \b\b| \b\b/ \b\b- \b\b\\ \b\b| \b\b/ \b\b- \b\b\\ \b\b| \b\b/ \b\b- \b\b\\ \b\b| \b\b/ \b\b- \b\b\\ \b\b| \b\b/ \b\b- \b\b\\ \b\b| \b\b/ \b\b- \b\b\\ \b\b| \b\b/ \b\b- \b\b\\ \b\b| \b\b/ \b\b- \b\b\\ \b\b| \b\b/ \b\b- \b\b\\ \b\b| \b\b/ \b\b- \b\b\\ \b\b| \b\b/ \b\b- \b\b\\ \b\b| \b\b/ \b\b- \b\b\\ \b\b| \b\b/ \b\b- \b\b\\ \b\b| \b\b/ \b\b- \b\b\\ \b\b| \b\b/ \b\b- \b\b\\ \b\b| \b\b/ \b\b- \b\b\\ \b\b| \b\b/ \b\b- \b\b\\ \b\b| \b\b/ \b\b- \b\b\\ \b\b| \b\b/ \b\b- \b\b\\ \b\b| \b\b/ \b\b- \b\b\\ \b\b| \b\b/ \b\b- \b\b\\ \b\b| \b\b/ \b\b- \b\b\\ \b\b| \b\b/ \b\b- \b\b\\ \b\b| \b\b/ \b\bdone\n",
            "Collecting absl-py==0.12.0\n",
            "  Downloading absl_py-0.12.0-py3-none-any.whl (129 kB)\n",
            "\u001b[K     |████████████████████████████████| 129 kB 15.2 MB/s \n",
            "\u001b[?25hCollecting cachetools==4.2.2\n",
            "  Downloading cachetools-4.2.2-py3-none-any.whl (11 kB)\n",
            "Collecting chardet==4.0.0\n",
            "  Downloading chardet-4.0.0-py2.py3-none-any.whl (178 kB)\n",
            "\u001b[K     |████████████████████████████████| 178 kB 31.9 MB/s \n",
            "\u001b[?25hCollecting einops==0.3.0\n",
            "  Downloading einops-0.3.0-py2.py3-none-any.whl (25 kB)\n",
            "Collecting google-auth==1.31.0\n",
            "  Downloading google_auth-1.31.0-py2.py3-none-any.whl (147 kB)\n",
            "\u001b[K     |████████████████████████████████| 147 kB 24.2 MB/s \n",
            "\u001b[?25hCollecting google-auth-oauthlib==0.4.4\n",
            "  Downloading google_auth_oauthlib-0.4.4-py2.py3-none-any.whl (18 kB)\n",
            "Collecting grpcio==1.38.0\n",
            "  Downloading grpcio-1.38.0-cp36-cp36m-manylinux2014_x86_64.whl (4.2 MB)\n",
            "\u001b[K     |████████████████████████████████| 4.2 MB 28.3 MB/s \n",
            "\u001b[?25hCollecting idna==2.10\n",
            "  Downloading idna-2.10-py2.py3-none-any.whl (58 kB)\n",
            "\u001b[K     |████████████████████████████████| 58 kB 4.9 MB/s \n",
            "\u001b[?25hCollecting importlib-metadata==4.5.0\n",
            "  Downloading importlib_metadata-4.5.0-py3-none-any.whl (17 kB)\n",
            "Collecting markdown==3.3.4\n",
            "  Downloading Markdown-3.3.4-py3-none-any.whl (97 kB)\n",
            "\u001b[K     |████████████████████████████████| 97 kB 6.0 MB/s \n",
            "\u001b[?25hCollecting oauthlib==3.1.1\n",
            "  Downloading oauthlib-3.1.1-py2.py3-none-any.whl (146 kB)\n",
            "\u001b[K     |████████████████████████████████| 146 kB 71.5 MB/s \n",
            "\u001b[?25hCollecting protobuf==3.17.3\n",
            "  Downloading protobuf-3.17.3-cp36-cp36m-manylinux_2_5_x86_64.manylinux1_x86_64.whl (1.0 MB)\n",
            "\u001b[K     |████████████████████████████████| 1.0 MB 49.9 MB/s \n",
            "\u001b[?25hCollecting pyasn1==0.4.8\n",
            "  Downloading pyasn1-0.4.8-py2.py3-none-any.whl (77 kB)\n",
            "\u001b[K     |████████████████████████████████| 77 kB 5.1 MB/s \n",
            "\u001b[?25hCollecting pyasn1-modules==0.2.8\n",
            "  Downloading pyasn1_modules-0.2.8-py2.py3-none-any.whl (155 kB)\n",
            "\u001b[K     |████████████████████████████████| 155 kB 73.5 MB/s \n",
            "\u001b[?25hCollecting requests==2.25.1\n",
            "  Downloading requests-2.25.1-py2.py3-none-any.whl (61 kB)\n",
            "\u001b[K     |████████████████████████████████| 61 kB 5.2 MB/s \n",
            "\u001b[?25hCollecting requests-oauthlib==1.3.0\n",
            "  Downloading requests_oauthlib-1.3.0-py2.py3-none-any.whl (23 kB)\n",
            "Collecting rsa==4.7.2\n",
            "  Downloading rsa-4.7.2-py3-none-any.whl (34 kB)\n",
            "Collecting tensorboard==2.5.0\n",
            "  Downloading tensorboard-2.5.0-py3-none-any.whl (6.0 MB)\n",
            "\u001b[K     |████████████████████████████████| 6.0 MB 42.3 MB/s \n",
            "\u001b[?25hCollecting tensorboard-data-server==0.6.1\n",
            "  Downloading tensorboard_data_server-0.6.1-py3-none-manylinux2010_x86_64.whl (4.9 MB)\n",
            "\u001b[K     |████████████████████████████████| 4.9 MB 35.9 MB/s \n",
            "\u001b[?25hCollecting tensorboard-plugin-wit==1.8.0\n",
            "  Downloading tensorboard_plugin_wit-1.8.0-py3-none-any.whl (781 kB)\n",
            "\u001b[K     |████████████████████████████████| 781 kB 28.4 MB/s \n",
            "\u001b[?25hCollecting urllib3==1.26.5\n",
            "  Downloading urllib3-1.26.5-py2.py3-none-any.whl (138 kB)\n",
            "\u001b[K     |████████████████████████████████| 138 kB 60.9 MB/s \n",
            "\u001b[?25hCollecting vit-pytorch==0.19.4\n",
            "  Downloading vit_pytorch-0.19.4-py3-none-any.whl (31 kB)\n",
            "Collecting werkzeug==2.0.1\n",
            "  Downloading Werkzeug-2.0.1-py3-none-any.whl (288 kB)\n",
            "\u001b[K     |████████████████████████████████| 288 kB 49.8 MB/s \n",
            "\u001b[?25hRequirement already satisfied: six in /usr/local/envs/dl_lab_project/lib/python3.6/site-packages (from absl-py==0.12.0->-r /content/dl-lab-project/condaenv.ghtnax3p.requirements.txt (line 1)) (1.15.0)\n",
            "Requirement already satisfied: setuptools>=40.3.0 in /usr/local/envs/dl_lab_project/lib/python3.6/site-packages (from google-auth==1.31.0->-r /content/dl-lab-project/condaenv.ghtnax3p.requirements.txt (line 5)) (52.0.0.post20210125)\n",
            "Requirement already satisfied: typing-extensions>=3.6.4 in /usr/local/envs/dl_lab_project/lib/python3.6/site-packages (from importlib-metadata==4.5.0->-r /content/dl-lab-project/condaenv.ghtnax3p.requirements.txt (line 9)) (3.7.4.3)\n",
            "Requirement already satisfied: zipp>=0.5 in /usr/local/envs/dl_lab_project/lib/python3.6/site-packages (from importlib-metadata==4.5.0->-r /content/dl-lab-project/condaenv.ghtnax3p.requirements.txt (line 9)) (3.4.1)\n",
            "Requirement already satisfied: certifi>=2017.4.17 in /usr/local/envs/dl_lab_project/lib/python3.6/site-packages (from requests==2.25.1->-r /content/dl-lab-project/condaenv.ghtnax3p.requirements.txt (line 15)) (2021.5.30)\n",
            "Requirement already satisfied: numpy>=1.12.0 in /usr/local/envs/dl_lab_project/lib/python3.6/site-packages (from tensorboard==2.5.0->-r /content/dl-lab-project/condaenv.ghtnax3p.requirements.txt (line 18)) (1.19.2)\n",
            "Requirement already satisfied: wheel>=0.26 in /usr/local/envs/dl_lab_project/lib/python3.6/site-packages (from tensorboard==2.5.0->-r /content/dl-lab-project/condaenv.ghtnax3p.requirements.txt (line 18)) (0.36.2)\n",
            "Requirement already satisfied: torchvision in /usr/local/envs/dl_lab_project/lib/python3.6/site-packages (from vit-pytorch==0.19.4->-r /content/dl-lab-project/condaenv.ghtnax3p.requirements.txt (line 22)) (0.9.1)\n",
            "Requirement already satisfied: torch>=1.6 in /usr/local/envs/dl_lab_project/lib/python3.6/site-packages (from vit-pytorch==0.19.4->-r /content/dl-lab-project/condaenv.ghtnax3p.requirements.txt (line 22)) (1.8.1)\n",
            "Requirement already satisfied: dataclasses in /usr/local/envs/dl_lab_project/lib/python3.6/site-packages (from werkzeug==2.0.1->-r /content/dl-lab-project/condaenv.ghtnax3p.requirements.txt (line 23)) (0.8)\n",
            "Requirement already satisfied: pillow>=4.1.1 in /usr/local/envs/dl_lab_project/lib/python3.6/site-packages (from torchvision->vit-pytorch==0.19.4->-r /content/dl-lab-project/condaenv.ghtnax3p.requirements.txt (line 22)) (8.2.0)\n",
            "Installing collected packages: urllib3, pyasn1, idna, chardet, rsa, requests, pyasn1-modules, oauthlib, cachetools, requests-oauthlib, importlib-metadata, google-auth, werkzeug, tensorboard-plugin-wit, tensorboard-data-server, protobuf, markdown, grpcio, google-auth-oauthlib, einops, absl-py, vit-pytorch, tensorboard\n",
            "  Attempting uninstall: importlib-metadata\n",
            "    Found existing installation: importlib-metadata 3.10.0\n",
            "    Uninstalling importlib-metadata-3.10.0:\n",
            "      Successfully uninstalled importlib-metadata-3.10.0\n",
            "Successfully installed absl-py-0.12.0 cachetools-4.2.2 chardet-4.0.0 einops-0.3.0 google-auth-1.31.0 google-auth-oauthlib-0.4.4 grpcio-1.38.0 idna-2.10 importlib-metadata-4.5.0 markdown-3.3.4 oauthlib-3.1.1 protobuf-3.17.3 pyasn1-0.4.8 pyasn1-modules-0.2.8 requests-2.25.1 requests-oauthlib-1.3.0 rsa-4.7.2 tensorboard-2.5.0 tensorboard-data-server-0.6.1 tensorboard-plugin-wit-1.8.0 urllib3-1.26.5 vit-pytorch-0.19.4 werkzeug-2.0.1\n",
            "\u001b[33mWARNING: Running pip as root will break packages and permissions. You should install packages reliably by using venv: https://pip.pypa.io/warnings/venv\u001b[0m\n",
            "#\n",
            "# To activate this environment, use:\n",
            "# > source activate dl_lab_project\n",
            "#\n",
            "# To deactivate an active environment, use:\n",
            "# > source deactivate\n",
            "#\n",
            "\n"
          ],
          "name": "stdout"
        }
      ]
    },
    {
      "cell_type": "code",
      "metadata": {
        "id": "APkGq1hQtG2P",
        "outputId": "c758a2ce-b978-4a25-bb4e-5977f1087f83",
        "colab": {
          "base_uri": "https://localhost:8080/"
        }
      },
      "source": [
        "cd dl-lab-project/"
      ],
      "execution_count": 23,
      "outputs": [
        {
          "output_type": "stream",
          "text": [
            "[Errno 2] No such file or directory: 'dl-lab-project/'\n",
            "/content/dl-lab-project\n"
          ],
          "name": "stdout"
        }
      ]
    },
    {
      "cell_type": "code",
      "metadata": {
        "id": "7K2rjEDS473e",
        "outputId": "0b9f3b2a-4321-4d46-bc51-89a95b80ad1f",
        "colab": {
          "base_uri": "https://localhost:8080/"
        }
      },
      "source": [
        "%%bash\n",
        "source activate dl_lab_project\n",
        "\n",
        "python\n",
        "import sys\n",
        "# some simple python commands\n",
        "sys.path.append('/usr/local/lib/python3.6/site-packages')\n",
        "print(sys.path)\n",
        "\n",
        "print(\"Python version\")\n",
        "print(sys.version)\n"
      ],
      "execution_count": 24,
      "outputs": [
        {
          "output_type": "stream",
          "text": [
            "['', '/env/python', '/usr/local/envs/dl_lab_project/lib/python36.zip', '/usr/local/envs/dl_lab_project/lib/python3.6', '/usr/local/envs/dl_lab_project/lib/python3.6/lib-dynload', '/usr/local/envs/dl_lab_project/lib/python3.6/site-packages', '/usr/local/lib/python3.6/site-packages']\n",
            "Python version\n",
            "3.6.13 |Anaconda, Inc.| (default, Jun  4 2021, 14:25:59) \n",
            "[GCC 7.5.0]\n"
          ],
          "name": "stdout"
        }
      ]
    },
    {
      "cell_type": "code",
      "metadata": {
        "id": "IIlSZwGDpYq5"
      },
      "source": [
        "from google.colab import drive\n",
        "drive.mount('/content/drive')"
      ],
      "execution_count": null,
      "outputs": []
    },
    {
      "cell_type": "code",
      "metadata": {
        "id": "wIJues6Mplfw",
        "outputId": "a31a6a03-104b-42b4-95b2-e6f14718471a",
        "colab": {
          "base_uri": "https://localhost:8080/"
        }
      },
      "source": [
        "%%bash\n",
        "source activate dl_lab_project\n",
        "\n",
        "python pretrain_rotation.py dataset"
      ],
      "execution_count": 25,
      "outputs": [
        {
          "output_type": "stream",
          "text": [
            "{'bs': 64,\n",
            " 'data_folder': 'dataset',\n",
            " 'exp_name': 'lr0.005_bs64_size32_',\n",
            " 'exp_suffix': '',\n",
            " 'logs_folder': 'results/pretrain/lr0.005_bs64_size32_/logs',\n",
            " 'lr': 0.005,\n",
            " 'model_folder': 'results/pretrain/lr0.005_bs64_size32_/models',\n",
            " 'output_folder': 'results/pretrain/lr0.005_bs64_size32_',\n",
            " 'output_root': 'results',\n",
            " 'size': 32,\n",
            " 'snapshot_freq': 1}\n",
            "\n"
          ],
          "name": "stdout"
        },
        {
          "output_type": "stream",
          "text": [
            "Traceback (most recent call last):\n",
            "  File \"pretrain_rotation.py\", line 139, in <module>\n",
            "    main(args)\n",
            "  File \"pretrain_rotation.py\", line 45, in main\n",
            "    model = ViTBackbone(pretrained=False).cuda()\n",
            "  File \"/usr/local/envs/dl_lab_project/lib/python3.6/site-packages/torch/nn/modules/module.py\", line 491, in cuda\n",
            "    return self._apply(lambda t: t.cuda(device))\n",
            "  File \"/usr/local/envs/dl_lab_project/lib/python3.6/site-packages/torch/nn/modules/module.py\", line 387, in _apply\n",
            "    module._apply(fn)\n",
            "  File \"/usr/local/envs/dl_lab_project/lib/python3.6/site-packages/torch/nn/modules/module.py\", line 387, in _apply\n",
            "    module._apply(fn)\n",
            "  File \"/usr/local/envs/dl_lab_project/lib/python3.6/site-packages/torch/nn/modules/module.py\", line 387, in _apply\n",
            "    module._apply(fn)\n",
            "  File \"/usr/local/envs/dl_lab_project/lib/python3.6/site-packages/torch/nn/modules/module.py\", line 409, in _apply\n",
            "    param_applied = fn(param)\n",
            "  File \"/usr/local/envs/dl_lab_project/lib/python3.6/site-packages/torch/nn/modules/module.py\", line 491, in <lambda>\n",
            "    return self._apply(lambda t: t.cuda(device))\n",
            "  File \"/usr/local/envs/dl_lab_project/lib/python3.6/site-packages/torch/cuda/__init__.py\", line 170, in _lazy_init\n",
            "    torch._C._cuda_init()\n",
            "RuntimeError: No CUDA GPUs are available\n"
          ],
          "name": "stderr"
        }
      ]
    }
  ]
}