{
  "nbformat": 4,
  "nbformat_minor": 0,
  "metadata": {
    "kernelspec": {
      "display_name": "Python 3",
      "language": "python",
      "name": "python3"
    },
    "language_info": {
      "codemirror_mode": {
        "name": "ipython",
        "version": 2
      },
      "file_extension": ".py",
      "mimetype": "text/x-python",
      "name": "python",
      "nbconvert_exporter": "python",
      "pygments_lexer": "ipython2",
      "version": "2.7.6"
    },
    "colab": {
      "name": "run.ipynb",
      "provenance": []
    },
    "accelerator": "GPU"
  },
  "cells": [
    {
      "cell_type": "code",
      "metadata": {
        "collapsed": true,
        "pycharm": {
          "name": "#%%\n"
        },
        "id": "_c0_YKYzo7PM"
      },
      "source": [
        "!git clone https://github.com/MaekTec/dl-lab-project.git"
      ],
      "execution_count": null,
      "outputs": []
    },
    {
      "cell_type": "code",
      "metadata": {
        "id": "IIlSZwGDpYq5"
      },
      "source": [
        "from google.colab import drive\n",
        "drive.mount('/content/drive/')"
      ],
      "execution_count": null,
      "outputs": []
    },
    {
      "cell_type": "code",
      "metadata": {
        "id": "ueapHS1kDsBc"
      },
      "source": [
        "cd dl-lab-project/"
      ],
      "execution_count": null,
      "outputs": []
    },
    {
      "cell_type": "code",
      "metadata": {
        "id": "nJJWV72SksZH"
      },
      "source": [
        "!git checkout --track origin/markus"
      ],
      "execution_count": null,
      "outputs": []
    },
    {
      "cell_type": "code",
      "metadata": {
        "id": "0-x9fHkrp_pc"
      },
      "source": [
        "!git pull"
      ],
      "execution_count": null,
      "outputs": []
    },
    {
      "cell_type": "code",
      "metadata": {
        "id": "WQNMtkrYyeaw"
      },
      "source": [
        "!git status"
      ],
      "execution_count": null,
      "outputs": []
    },
    {
      "cell_type": "code",
      "metadata": {
        "id": "7K2rjEDS473e"
      },
      "source": [
        "import sys\n",
        "# some simple python commands\n",
        "sys.path.append('/usr/local/lib/python3.6/site-packages')\n",
        "print(sys.path)\n",
        "\n",
        "print(\"Python version\")\n",
        "print(sys.version)\n",
        "!pip freeze"
      ],
      "execution_count": null,
      "outputs": []
    },
    {
      "cell_type": "code",
      "metadata": {
        "id": "-S2Xje5uISg-"
      },
      "source": [
        "!pip install vit-pytorch\n",
        "!pip install torchsummary\n",
        "!pip install elasticdeform\n",
        "%load_ext tensorboard"
      ],
      "execution_count": null,
      "outputs": []
    },
    {
      "cell_type": "code",
      "metadata": {
        "id": "KNw7DYt4DZrm"
      },
      "source": [
        "%tensorboard --logdir runs"
      ],
      "execution_count": null,
      "outputs": []
    },
    {
      "cell_type": "markdown",
      "metadata": {
        "id": "gT2Bg3ZaWujb"
      },
      "source": [
        "Pretraining"
      ]
    },
    {
      "cell_type": "code",
      "metadata": {
        "id": "9dL6o8AUIdVB"
      },
      "source": [
        "!python pretrain_rotation.py --epochs 2 dataset"
      ],
      "execution_count": null,
      "outputs": []
    },
    {
      "cell_type": "code",
      "metadata": {
        "id": "NC-_Rxqik_F-"
      },
      "source": [
        "!python pretrain_jigsaw_puzzle.py --epochs 2 dataset"
      ],
      "execution_count": null,
      "outputs": []
    },
    {
      "cell_type": "code",
      "metadata": {
        "id": "oU75TGf16xI2"
      },
      "source": [
        "!python pretrain_contrastive_predictive_coding.py --epochs 2 dataset"
      ],
      "execution_count": null,
      "outputs": []
    },
    {
      "cell_type": "code",
      "metadata": {
        "id": "p_SkGmTD37Xt"
      },
      "source": [
        "!python pretrain_moco.py --epochs 2 dataset"
      ],
      "execution_count": null,
      "outputs": []
    },
    {
      "cell_type": "markdown",
      "metadata": {
        "id": "gm3_lg-tWrHK"
      },
      "source": [
        "Downstream with random weights"
      ]
    },
    {
      "cell_type": "code",
      "metadata": {
        "id": "duReK5MxSjS4"
      },
      "source": [
        "!python downstream.py --epochs 2 --fine-tune-last-layer True dataset none"
      ],
      "execution_count": null,
      "outputs": []
    },
    {
      "cell_type": "code",
      "metadata": {
        "id": "A78lXHnjUiwh"
      },
      "source": [
        "!python downstream.py --epochs 2 dataset none"
      ],
      "execution_count": null,
      "outputs": []
    },
    {
      "cell_type": "code",
      "metadata": {
        "id": "pzt538jwZkyR"
      },
      "source": [
        "!python downstream.py --epochs 2 --whole-dataset True dataset none"
      ],
      "execution_count": null,
      "outputs": []
    },
    {
      "cell_type": "markdown",
      "metadata": {
        "id": "L52mvgyOW5kJ"
      },
      "source": [
        "Downstream with weights from pretraining"
      ]
    },
    {
      "cell_type": "code",
      "metadata": {
        "id": "zQUXBVq1SLHd"
      },
      "source": [
        "!python downstream.py --epochs 2 --pretrain-path results/pretrain_rotation/lr0.0002_weight_decay0.0_bs256_epochs2_image_size64_resnetFalse_ --fine-tune-last-layer True dataset rotation"
      ],
      "execution_count": null,
      "outputs": []
    },
    {
      "cell_type": "code",
      "metadata": {
        "id": "l7ePYftwSeOS"
      },
      "source": [
        "!python downstream.py --epochs 2 --pretrain-path results/pretrain_rotation/lr0.0002_weight_decay0.0_bs256_epochs2_image_size64_resnetFalse_ dataset rotation"
      ],
      "execution_count": null,
      "outputs": []
    },
    {
      "cell_type": "code",
      "metadata": {
        "id": "spvQLS5AT9_R"
      },
      "source": [
        "!python downstream.py --epochs 2 --pretrain-path results/pretrain_jigsaw_puzzle/lr0.0002_weight_decay0.0_bs256_epochs2_image_size64_num_tiles_per_dim3_number_of_permutations64_resnetFalse_ --fine-tune-last-layer True dataset jigsaw_puzzle"
      ],
      "execution_count": null,
      "outputs": []
    },
    {
      "cell_type": "code",
      "metadata": {
        "id": "3_PmWSzNXVLp"
      },
      "source": [
        "!python downstream.py --epochs 2 --pretrain-path results/pretrain_jigsaw_puzzle/lr0.0002_weight_decay0.0_bs256_epochs2_image_size64_num_tiles_per_dim3_number_of_permutations64_resnetFalse_ dataset jigsaw_puzzle"
      ],
      "execution_count": null,
      "outputs": []
    },
    {
      "cell_type": "code",
      "metadata": {
        "id": "FbMWk6jeEr50"
      },
      "source": [
        "#!python downstream.py --epochs 2 --pretrain-path results/pretrain_contrastive_predictive_coding/lr0.0002_weight_decay0.0_bs128_epochs2_image_size64_num_patches_per_dim4_resnetFalse_ --fine-tune-last-layer True dataset cpc"
      ],
      "execution_count": null,
      "outputs": []
    },
    {
      "cell_type": "code",
      "metadata": {
        "id": "QgTE9c8BXdNv"
      },
      "source": [
        "#!python downstream.py --epochs 2 --pretrain-path results/pretrain_contrastive_predictive_coding/lr0.0002_weight_decay0.0_bs128_epochs2_image_size64_num_patches_per_dim4_resnetFalse_ dataset cpc"
      ],
      "execution_count": null,
      "outputs": []
    },
    {
      "cell_type": "code",
      "metadata": {
        "id": "7iXSwVfXVrvi"
      },
      "source": [
        "!python downstream.py --epochs 2 --pretrain-path results/pretrain_moco/lr0.0002_weight_decay0.0_bs256_epochs2_image_size64_resnetFalse_ --fine-tune-last-layer True dataset moco"
      ],
      "execution_count": null,
      "outputs": []
    },
    {
      "cell_type": "code",
      "metadata": {
        "id": "pO9TKZTyXoT5"
      },
      "source": [
        "!python downstream.py --epochs 2 --pretrain-path results/pretrain_moco/lr0.0002_weight_decay0.0_bs256_epochs2_image_size64_resnetFalse_ dataset moco"
      ],
      "execution_count": null,
      "outputs": []
    },
    {
      "cell_type": "markdown",
      "metadata": {
        "id": "P7HJDczmYMVY"
      },
      "source": [
        "Eval downstream on testset"
      ]
    },
    {
      "cell_type": "code",
      "metadata": {
        "id": "WyMLgzFuTxSz"
      },
      "source": [
        "!python eval_downstream.py --exp-suffix eval_none_e2e --downstream-path results/downstream/pretrain_tasknone_fine_tune_last_layerFalse_lr_ftl0.0002_lr_e2e5e-05_weight_decay0.01_bs256_epochs2_image_size64_resnetFalse_whole_datasetFalse_ dataset"
      ],
      "execution_count": null,
      "outputs": []
    },
    {
      "cell_type": "code",
      "metadata": {
        "id": "mnSiYGhgYtYg"
      },
      "source": [
        "!python eval_downstream.py --exp-suffix eval_none_ftl --downstream-path results/downstream/pretrain_tasknone_fine_tune_last_layerTrue_lr_ftl0.0002_lr_e2e5e-05_weight_decay0.01_bs256_epochs2_image_size64_resnetFalse_whole_datasetFalse_ dataset"
      ],
      "execution_count": null,
      "outputs": []
    },
    {
      "cell_type": "code",
      "metadata": {
        "id": "q7TaHI06YuEA"
      },
      "source": [
        "!python eval_downstream.py --exp-suffix eval_none_e2e_whole_dataset --downstream-path results/downstream/pretrain_tasknone_fine_tune_last_layerFalse_lr_ftl0.0002_lr_e2e5e-05_weight_decay0.01_bs256_epochs20_image_size64_resnetFalse_whole_datasetTrue_ dataset"
      ],
      "execution_count": null,
      "outputs": []
    },
    {
      "cell_type": "code",
      "metadata": {
        "id": "HS-SI6WPYuM5"
      },
      "source": [
        "!python eval_downstream.py --exp-suffix eval_rotation_ftl --downstream-path results/downstream/pretrain_taskrotation_fine_tune_last_layerTrue_lr_ftl0.0002_lr_e2e5e-05_weight_decay0.01_bs256_epochs2_image_size64_resnetFalse_whole_datasetFalse_ dataset"
      ],
      "execution_count": null,
      "outputs": []
    },
    {
      "cell_type": "code",
      "metadata": {
        "id": "hzlUZUuVYwUl"
      },
      "source": [
        "!python eval_downstream.py --exp-suffix eval_rotation_e2e --downstream-path results/downstream/pretrain_taskrotation_fine_tune_last_layerFalse_lr_ftl0.0002_lr_e2e5e-05_weight_decay0.01_bs256_epochs2_image_size64_resnetFalse_whole_datasetFalse_ dataset"
      ],
      "execution_count": null,
      "outputs": []
    },
    {
      "cell_type": "code",
      "metadata": {
        "id": "w6EEXHfBYwdy"
      },
      "source": [
        "!python eval_downstream.py --exp-suffix eval_jigsaw_puzzle_ftl --downstream-path results/downstream/pretrain_taskjigsaw_puzzle_fine_tune_last_layerTrue_lr_ftl0.0002_lr_e2e5e-05_weight_decay0.01_bs256_epochs2_image_size64_resnetFalse_whole_datasetFalse_ dataset"
      ],
      "execution_count": null,
      "outputs": []
    },
    {
      "cell_type": "code",
      "metadata": {
        "id": "H_vTxMEHYwkn"
      },
      "source": [
        "!python eval_downstream.py --exp-suffix eval_jigsaw_puzzle_e2e --downstream-path results/downstream/pretrain_taskjigsaw_puzzle_fine_tune_last_layerFalse_lr_ftl0.0002_lr_e2e5e-05_weight_decay0.01_bs256_epochs2_image_size64_resnetFalse_whole_datasetFalse_ dataset"
      ],
      "execution_count": null,
      "outputs": []
    },
    {
      "cell_type": "code",
      "metadata": {
        "id": "74FS6Np6YwrS"
      },
      "source": [
        "#!python eval_downstream.py --exp-suffix eval_cpc_ftl --downstream-path results/downstream/pretrain_taskcpc_fine_tune_last_layerTrue_lr_ftl0.0002_lr_e2e5e-05_weight_decay0.01_bs256_epochs2_image_size64_resnetFalse_whole_datasetFalse_ dataset"
      ],
      "execution_count": null,
      "outputs": []
    },
    {
      "cell_type": "code",
      "metadata": {
        "id": "R07nIF5gYwxD"
      },
      "source": [
        "#!python eval_downstream.py --exp-suffix eval_cpc_e2e --downstream-path results/downstream/pretrain_taskcpc_fine_tune_last_layerFalse_lr_ftl0.0002_lr_e2e5e-05_weight_decay0.01_bs256_epochs2_image_size64_resnetFalse_whole_datasetFalse_ dataset"
      ],
      "execution_count": null,
      "outputs": []
    },
    {
      "cell_type": "code",
      "metadata": {
        "id": "ziZQx6bzYw3d"
      },
      "source": [
        "!python eval_downstream.py --exp-suffix eval_moco_ftl --downstream-path results/downstream/pretrain_taskmoco_fine_tune_last_layerTrue_lr_ftl0.0002_lr_e2e5e-05_weight_decay0.01_bs256_epochs2_image_size64_resnetFalse_whole_datasetFalse_ dataset"
      ],
      "execution_count": null,
      "outputs": []
    },
    {
      "cell_type": "code",
      "metadata": {
        "id": "6exdE1c_Yw9d"
      },
      "source": [
        "!python eval_downstream.py --exp-suffix eval_moco_e2e --downstream-path results/downstream/pretrain_taskmoco_fine_tune_last_layerFalse_lr_ftl0.0002_lr_e2e5e-05_weight_decay0.01_bs256_epochs2_image_size64_resnetFalse_whole_datasetFalse_ dataset"
      ],
      "execution_count": null,
      "outputs": []
    }
  ]
}