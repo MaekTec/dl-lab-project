{
 "nbformat": 4,
 "nbformat_minor": 0,
 "metadata": {
  "kernelspec": {
   "display_name": "Python 3",
   "language": "python",
   "name": "python3"
  },
  "language_info": {
   "codemirror_mode": {
    "name": "ipython",
    "version": 2
   },
   "file_extension": ".py",
   "mimetype": "text/x-python",
   "name": "python",
   "nbconvert_exporter": "python",
   "pygments_lexer": "ipython2",
   "version": "2.7.6"
  },
  "colab": {
   "name": "run.ipynb",
   "provenance": []
  },
  "accelerator": "GPU"
 },
 "cells": [
  {
   "cell_type": "code",
   "metadata": {
    "collapsed": true,
    "pycharm": {
     "name": "#%%\n"
    },
    "id": "_c0_YKYzo7PM"
   },
   "source": [
    "!git clone https://github.com/MaekTec/dl-lab-project.git"
   ],
   "execution_count": null,
   "outputs": []
  },
  {
   "cell_type": "code",
   "metadata": {
    "id": "IIlSZwGDpYq5"
   },
   "source": [
    "from google.colab import drive\n",
    "drive.mount('/content/drive/')"
   ],
   "execution_count": null,
   "outputs": []
  },
  {
   "cell_type": "code",
   "metadata": {
    "id": "7K2rjEDS473e"
   },
   "source": [
    "import sys\n",
    "# some simple python commands\n",
    "sys.path.append('/usr/local/lib/python3.6/site-packages')\n",
    "print(sys.path)\n",
    "\n",
    "print(\"Python version\")\n",
    "print(sys.version)\n",
    "!pip freeze"
   ],
   "execution_count": null,
   "outputs": []
  },
  {
   "cell_type": "code",
   "metadata": {
    "id": "-S2Xje5uISg-"
   },
   "source": [
    "!pip install vit-pytorch\n",
    "%load_ext tensorboard"
   ],
   "execution_count": null,
   "outputs": []
  },
  {
   "cell_type": "code",
   "metadata": {
    "id": "ueapHS1kDsBc"
   },
   "source": [
    "!cd dl-lab-project/"
   ],
   "execution_count": null,
   "outputs": []
  },
  {
   "cell_type": "code",
   "metadata": {
    "id": "KNw7DYt4DZrm"
   },
   "source": [
    "%tensorboard --logdir runs"
   ],
   "execution_count": null,
   "outputs": []
  },
  {
   "cell_type": "code",
   "metadata": {
    "id": "9dL6o8AUIdVB"
   },
   "source": [
    "!python pretrain_rotation.py --bs 256 dataset"
   ],
   "execution_count": null,
   "outputs": []
  },
  {
   "cell_type": "code",
   "metadata": {
    "id": "wIJues6Mplfw"
   },
   "source": [
    "%%bash\n",
    "source activate dl_lab_project\n",
    "\n",
    "python pretrain_rotation.py dataset"
   ],
   "execution_count": null,
   "outputs": []
  }
 ]
}