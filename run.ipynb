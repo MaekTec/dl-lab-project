{
  "nbformat": 4,
  "nbformat_minor": 0,
  "metadata": {
    "kernelspec": {
      "display_name": "Python 3",
      "language": "python",
      "name": "python3"
    },
    "language_info": {
      "codemirror_mode": {
        "name": "ipython",
        "version": 2
      },
      "file_extension": ".py",
      "mimetype": "text/x-python",
      "name": "python",
      "nbconvert_exporter": "python",
      "pygments_lexer": "ipython2",
      "version": "2.7.6"
    },
    "colab": {
      "name": "run.ipynb",
      "provenance": []
    },
    "accelerator": "GPU"
  },
  "cells": [
    {
      "cell_type": "code",
      "metadata": {
        "collapsed": true,
        "pycharm": {
          "name": "#%%\n"
        },
        "id": "_c0_YKYzo7PM"
      },
      "source": [
        "!git clone https://github.com/MaekTec/dl-lab-project.git"
      ],
      "execution_count": null,
      "outputs": []
    },
    {
      "cell_type": "code",
      "metadata": {
        "id": "IIlSZwGDpYq5"
      },
      "source": [
        "from google.colab import drive\n",
        "drive.mount('/content/drive/')"
      ],
      "execution_count": null,
      "outputs": []
    },
    {
      "cell_type": "code",
      "metadata": {
        "id": "ueapHS1kDsBc"
      },
      "source": [
        "cd dl-lab-project/"
      ],
      "execution_count": null,
      "outputs": []
    },
    {
      "cell_type": "code",
      "metadata": {
        "id": "nJJWV72SksZH"
      },
      "source": [
        "!git checkout --track origin/markus"
      ],
      "execution_count": null,
      "outputs": []
    },
    {
      "cell_type": "code",
      "metadata": {
        "id": "0-x9fHkrp_pc"
      },
      "source": [
        "!git pull"
      ],
      "execution_count": null,
      "outputs": []
    },
    {
      "cell_type": "code",
      "metadata": {
        "id": "WQNMtkrYyeaw"
      },
      "source": [
        "!git status"
      ],
      "execution_count": null,
      "outputs": []
    },
    {
      "cell_type": "code",
      "metadata": {
        "id": "7K2rjEDS473e"
      },
      "source": [
        "import sys\n",
        "# some simple python commands\n",
        "sys.path.append('/usr/local/lib/python3.6/site-packages')\n",
        "print(sys.path)\n",
        "\n",
        "print(\"Python version\")\n",
        "print(sys.version)\n",
        "!pip freeze"
      ],
      "execution_count": null,
      "outputs": []
    },
    {
      "cell_type": "code",
      "metadata": {
        "id": "-S2Xje5uISg-"
      },
      "source": [
        "!pip install vit-pytorch\n",
        "!pip install torchsummary\n",
        "!pip install elasticdeform\n",
        "%load_ext tensorboard"
      ],
      "execution_count": null,
      "outputs": []
    },
    {
      "cell_type": "code",
      "metadata": {
        "id": "KNw7DYt4DZrm"
      },
      "source": [
        "%tensorboard --logdir runs"
      ],
      "execution_count": null,
      "outputs": []
    },
    {
      "cell_type": "code",
      "metadata": {
        "id": "9dL6o8AUIdVB"
      },
      "source": [
        "!python pretrain_rotation.py dataset"
      ],
      "execution_count": null,
      "outputs": []
    },
    {
      "cell_type": "code",
      "metadata": {
        "id": "NC-_Rxqik_F-"
      },
      "source": [
        "!python pretrain_jigsaw_puzzle.py dataset"
      ],
      "execution_count": null,
      "outputs": []
    },
    {
      "cell_type": "code",
      "metadata": {
        "id": "oU75TGf16xI2"
      },
      "source": [
        "!python pretrain_contrastive_predictive_coding.py dataset"
      ],
      "execution_count": null,
      "outputs": []
    },
    {
      "cell_type": "code",
      "metadata": {
        "id": "p_SkGmTD37Xt"
      },
      "source": [
        "!python pretrain_moco.py --epochs 60 dataset"
      ],
      "execution_count": null,
      "outputs": []
    },
    {
      "cell_type": "code",
      "metadata": {
        "id": "A78lXHnjUiwh"
      },
      "source": [
        "!python downstream.py dataset none"
      ],
      "execution_count": null,
      "outputs": []
    },
    {
      "cell_type": "code",
      "metadata": {
        "id": "duReK5MxSjS4"
      },
      "source": [
        "!python downstream.py --fine-tune-last-layer True dataset none"
      ],
      "execution_count": null,
      "outputs": []
    },
    {
      "cell_type": "code",
      "metadata": {
        "id": "zQUXBVq1SLHd"
      },
      "source": [
        "!python downstream.py --weight-init results/pretrain_rotation/lr0.0002_bs256_epochs15_image_size64_resnetFalse_/models/ckpt_best.pth --fine-tune-last-layer True dataset rotation"
      ],
      "execution_count": null,
      "outputs": []
    },
    {
      "cell_type": "code",
      "metadata": {
        "id": "spvQLS5AT9_R"
      },
      "source": [
        "!python downstream.py --weight-init results/pretrain_jigsaw_puzzle/lr0.0002_weight_decay0.0_bs256_epochs15_image_size64_num_tiles_per_dim3_number_of_permutations64_resnetFalse_/models/ckpt_best.pth --fine-tune-last-layer True dataset jigsaw_puzzle"
      ],
      "execution_count": null,
      "outputs": []
    },
    {
      "cell_type": "code",
      "metadata": {
        "id": "FbMWk6jeEr50"
      },
      "source": [
        "!python downstream.py --weight-init results/pretrain_contrastive_predictive_coding/lr0.0002_weight_decay0.0_bs128_epochs15_image_size64_num_patches_per_dim4_resnetFalse_/models/ckpt_best.pth --fine-tune-last-layer True dataset cpc"
      ],
      "execution_count": null,
      "outputs": []
    },
    {
      "cell_type": "code",
      "metadata": {
        "id": "7iXSwVfXVrvi"
      },
      "source": [
        "!python downstream.py --weight-init results/pretrain_moco/lr0.0002_weight_decay0.0_bs256_epochs60_image_size64_resnetFalse_/models/ckpt_best_20.pth --fine-tune-last-layer True dataset moco"
      ],
      "execution_count": null,
      "outputs": []
    }
  ]
}